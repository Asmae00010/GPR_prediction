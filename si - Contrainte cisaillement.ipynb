{
 "cells": [
  {
   "cell_type": "markdown",
   "metadata": {},
   "source": [
    "Prediction for output : Max deformation"
   ]
  },
  {
   "cell_type": "code",
   "execution_count": 1,
   "metadata": {},
   "outputs": [],
   "source": [
    "#necessary libraries\n",
    "import pandas as pd\n",
    "import numpy as np\n",
    "from sklearn.model_selection import train_test_split\n",
    "from sklearn.preprocessing import StandardScaler\n",
    "from sklearn.gaussian_process import GaussianProcessRegressor\n",
    "from sklearn.gaussian_process.kernels import RBF, ConstantKernel as C\n",
    "from sklearn.model_selection import cross_val_score\n",
    "from sklearn.pipeline import Pipeline\n"
   ]
  },
  {
   "cell_type": "code",
   "execution_count": 21,
   "metadata": {},
   "outputs": [],
   "source": [
    "#data loading (change it to whatever u have as path)\n",
    "df = pd.read_csv(\"C:/Users/asmae/Desktop/augmented2_data_simulation.csv\")\n",
    "\n",
    "#Target : Max deformation\n",
    "X = df[['Vitesse', 'Temps', 'Profondeur']].values\n",
    "y = df['Max contrainte'].values\n",
    "\n",
    "X_train, X_test, y_train, y_test = train_test_split(X, y, test_size=0.2, random_state=42)\n",
    "\n",
    "scaler = StandardScaler()\n",
    "X_train_scaled = scaler.fit_transform(X_train)\n",
    "X_test_scaled = scaler.transform(X_test)\n"
   ]
  },
  {
   "cell_type": "code",
   "execution_count": 137,
   "metadata": {},
   "outputs": [],
   "source": [
    "\n",
    "\n",
    "#creating a pipeline that first scales the data then applies GPR\n",
    "pipeline = Pipeline([\n",
    "    ('scaler', StandardScaler()),\n",
    "    ('gpr', GaussianProcessRegressor(normalize_y=True, n_restarts_optimizer=5))\n",
    "])\n"
   ]
  },
  {
   "cell_type": "code",
   "execution_count": 138,
   "metadata": {},
   "outputs": [],
   "source": [
    "from sklearn.model_selection import GridSearchCV\n",
    "from sklearn.gaussian_process import GaussianProcessRegressor\n",
    "from sklearn.gaussian_process.kernels import RBF, ConstantKernel as C, WhiteKernel\n",
    "from sklearn.preprocessing import StandardScaler\n",
    "from sklearn.pipeline import Pipeline\n",
    "from sklearn.datasets import make_regression\n",
    "from sklearn.model_selection import train_test_split\n"
   ]
  },
  {
   "cell_type": "code",
   "execution_count": 139,
   "metadata": {},
   "outputs": [],
   "source": [
    "param_grid = {\n",
    "    'gpr__kernel': [C(1.0, (1e-9, 1e9)) * RBF(length_scale=l) + WhiteKernel(noise_level=1e-5) for l in np.logspace(-3, 3, 7)]\n",
    "}\n"
   ]
  },
  {
   "cell_type": "code",
   "execution_count": 140,
   "metadata": {},
   "outputs": [
    {
     "data": {
      "text/html": [
       "<style>#sk-container-id-9 {color: black;}#sk-container-id-9 pre{padding: 0;}#sk-container-id-9 div.sk-toggleable {background-color: white;}#sk-container-id-9 label.sk-toggleable__label {cursor: pointer;display: block;width: 100%;margin-bottom: 0;padding: 0.3em;box-sizing: border-box;text-align: center;}#sk-container-id-9 label.sk-toggleable__label-arrow:before {content: \"▸\";float: left;margin-right: 0.25em;color: #696969;}#sk-container-id-9 label.sk-toggleable__label-arrow:hover:before {color: black;}#sk-container-id-9 div.sk-estimator:hover label.sk-toggleable__label-arrow:before {color: black;}#sk-container-id-9 div.sk-toggleable__content {max-height: 0;max-width: 0;overflow: hidden;text-align: left;background-color: #f0f8ff;}#sk-container-id-9 div.sk-toggleable__content pre {margin: 0.2em;color: black;border-radius: 0.25em;background-color: #f0f8ff;}#sk-container-id-9 input.sk-toggleable__control:checked~div.sk-toggleable__content {max-height: 200px;max-width: 100%;overflow: auto;}#sk-container-id-9 input.sk-toggleable__control:checked~label.sk-toggleable__label-arrow:before {content: \"▾\";}#sk-container-id-9 div.sk-estimator input.sk-toggleable__control:checked~label.sk-toggleable__label {background-color: #d4ebff;}#sk-container-id-9 div.sk-label input.sk-toggleable__control:checked~label.sk-toggleable__label {background-color: #d4ebff;}#sk-container-id-9 input.sk-hidden--visually {border: 0;clip: rect(1px 1px 1px 1px);clip: rect(1px, 1px, 1px, 1px);height: 1px;margin: -1px;overflow: hidden;padding: 0;position: absolute;width: 1px;}#sk-container-id-9 div.sk-estimator {font-family: monospace;background-color: #f0f8ff;border: 1px dotted black;border-radius: 0.25em;box-sizing: border-box;margin-bottom: 0.5em;}#sk-container-id-9 div.sk-estimator:hover {background-color: #d4ebff;}#sk-container-id-9 div.sk-parallel-item::after {content: \"\";width: 100%;border-bottom: 1px solid gray;flex-grow: 1;}#sk-container-id-9 div.sk-label:hover label.sk-toggleable__label {background-color: #d4ebff;}#sk-container-id-9 div.sk-serial::before {content: \"\";position: absolute;border-left: 1px solid gray;box-sizing: border-box;top: 0;bottom: 0;left: 50%;z-index: 0;}#sk-container-id-9 div.sk-serial {display: flex;flex-direction: column;align-items: center;background-color: white;padding-right: 0.2em;padding-left: 0.2em;position: relative;}#sk-container-id-9 div.sk-item {position: relative;z-index: 1;}#sk-container-id-9 div.sk-parallel {display: flex;align-items: stretch;justify-content: center;background-color: white;position: relative;}#sk-container-id-9 div.sk-item::before, #sk-container-id-9 div.sk-parallel-item::before {content: \"\";position: absolute;border-left: 1px solid gray;box-sizing: border-box;top: 0;bottom: 0;left: 50%;z-index: -1;}#sk-container-id-9 div.sk-parallel-item {display: flex;flex-direction: column;z-index: 1;position: relative;background-color: white;}#sk-container-id-9 div.sk-parallel-item:first-child::after {align-self: flex-end;width: 50%;}#sk-container-id-9 div.sk-parallel-item:last-child::after {align-self: flex-start;width: 50%;}#sk-container-id-9 div.sk-parallel-item:only-child::after {width: 0;}#sk-container-id-9 div.sk-dashed-wrapped {border: 1px dashed gray;margin: 0 0.4em 0.5em 0.4em;box-sizing: border-box;padding-bottom: 0.4em;background-color: white;}#sk-container-id-9 div.sk-label label {font-family: monospace;font-weight: bold;display: inline-block;line-height: 1.2em;}#sk-container-id-9 div.sk-label-container {text-align: center;}#sk-container-id-9 div.sk-container {/* jupyter's `normalize.less` sets `[hidden] { display: none; }` but bootstrap.min.css set `[hidden] { display: none !important; }` so we also need the `!important` here to be able to override the default hidden behavior on the sphinx rendered scikit-learn.org. See: https://github.com/scikit-learn/scikit-learn/issues/21755 */display: inline-block !important;position: relative;}#sk-container-id-9 div.sk-text-repr-fallback {display: none;}</style><div id=\"sk-container-id-9\" class=\"sk-top-container\"><div class=\"sk-text-repr-fallback\"><pre>GridSearchCV(cv=5,\n",
       "             estimator=Pipeline(steps=[(&#x27;scaler&#x27;, StandardScaler()),\n",
       "                                       (&#x27;gpr&#x27;,\n",
       "                                        GaussianProcessRegressor(n_restarts_optimizer=5,\n",
       "                                                                 normalize_y=True))]),\n",
       "             param_grid={&#x27;gpr__kernel&#x27;: [1**2 * RBF(length_scale=0.001) + WhiteKernel(noise_level=1e-05),\n",
       "                                         1**2 * RBF(length_scale=0.01) + WhiteKernel(noise_level=1e-05),\n",
       "                                         1**2 * RBF(length_scale=0.1) + WhiteKernel(noise_level=1e-05),\n",
       "                                         1**2 * RBF(length_scale=1) + WhiteKernel(noise_level=1e-05),\n",
       "                                         1**2 * RBF(length_scale=10) + WhiteKernel(noise_level=1e-05),\n",
       "                                         1**2 * RBF(length_scale=100) + WhiteKernel(noise_level=1e-05),\n",
       "                                         1**2 * RBF(length_scale=1e+03) + WhiteKernel(noise_level=1e-05)]},\n",
       "             scoring=&#x27;neg_mean_squared_error&#x27;)</pre><b>In a Jupyter environment, please rerun this cell to show the HTML representation or trust the notebook. <br />On GitHub, the HTML representation is unable to render, please try loading this page with nbviewer.org.</b></div><div class=\"sk-container\" hidden><div class=\"sk-item sk-dashed-wrapped\"><div class=\"sk-label-container\"><div class=\"sk-label sk-toggleable\"><input class=\"sk-toggleable__control sk-hidden--visually\" id=\"sk-estimator-id-27\" type=\"checkbox\" ><label for=\"sk-estimator-id-27\" class=\"sk-toggleable__label sk-toggleable__label-arrow\">GridSearchCV</label><div class=\"sk-toggleable__content\"><pre>GridSearchCV(cv=5,\n",
       "             estimator=Pipeline(steps=[(&#x27;scaler&#x27;, StandardScaler()),\n",
       "                                       (&#x27;gpr&#x27;,\n",
       "                                        GaussianProcessRegressor(n_restarts_optimizer=5,\n",
       "                                                                 normalize_y=True))]),\n",
       "             param_grid={&#x27;gpr__kernel&#x27;: [1**2 * RBF(length_scale=0.001) + WhiteKernel(noise_level=1e-05),\n",
       "                                         1**2 * RBF(length_scale=0.01) + WhiteKernel(noise_level=1e-05),\n",
       "                                         1**2 * RBF(length_scale=0.1) + WhiteKernel(noise_level=1e-05),\n",
       "                                         1**2 * RBF(length_scale=1) + WhiteKernel(noise_level=1e-05),\n",
       "                                         1**2 * RBF(length_scale=10) + WhiteKernel(noise_level=1e-05),\n",
       "                                         1**2 * RBF(length_scale=100) + WhiteKernel(noise_level=1e-05),\n",
       "                                         1**2 * RBF(length_scale=1e+03) + WhiteKernel(noise_level=1e-05)]},\n",
       "             scoring=&#x27;neg_mean_squared_error&#x27;)</pre></div></div></div><div class=\"sk-parallel\"><div class=\"sk-parallel-item\"><div class=\"sk-item\"><div class=\"sk-label-container\"><div class=\"sk-label sk-toggleable\"><input class=\"sk-toggleable__control sk-hidden--visually\" id=\"sk-estimator-id-28\" type=\"checkbox\" ><label for=\"sk-estimator-id-28\" class=\"sk-toggleable__label sk-toggleable__label-arrow\">estimator: Pipeline</label><div class=\"sk-toggleable__content\"><pre>Pipeline(steps=[(&#x27;scaler&#x27;, StandardScaler()),\n",
       "                (&#x27;gpr&#x27;,\n",
       "                 GaussianProcessRegressor(n_restarts_optimizer=5,\n",
       "                                          normalize_y=True))])</pre></div></div></div><div class=\"sk-serial\"><div class=\"sk-item\"><div class=\"sk-serial\"><div class=\"sk-item\"><div class=\"sk-estimator sk-toggleable\"><input class=\"sk-toggleable__control sk-hidden--visually\" id=\"sk-estimator-id-29\" type=\"checkbox\" ><label for=\"sk-estimator-id-29\" class=\"sk-toggleable__label sk-toggleable__label-arrow\">StandardScaler</label><div class=\"sk-toggleable__content\"><pre>StandardScaler()</pre></div></div></div><div class=\"sk-item\"><div class=\"sk-estimator sk-toggleable\"><input class=\"sk-toggleable__control sk-hidden--visually\" id=\"sk-estimator-id-30\" type=\"checkbox\" ><label for=\"sk-estimator-id-30\" class=\"sk-toggleable__label sk-toggleable__label-arrow\">GaussianProcessRegressor</label><div class=\"sk-toggleable__content\"><pre>GaussianProcessRegressor(n_restarts_optimizer=5, normalize_y=True)</pre></div></div></div></div></div></div></div></div></div></div></div></div>"
      ],
      "text/plain": [
       "GridSearchCV(cv=5,\n",
       "             estimator=Pipeline(steps=[('scaler', StandardScaler()),\n",
       "                                       ('gpr',\n",
       "                                        GaussianProcessRegressor(n_restarts_optimizer=5,\n",
       "                                                                 normalize_y=True))]),\n",
       "             param_grid={'gpr__kernel': [1**2 * RBF(length_scale=0.001) + WhiteKernel(noise_level=1e-05),\n",
       "                                         1**2 * RBF(length_scale=0.01) + WhiteKernel(noise_level=1e-05),\n",
       "                                         1**2 * RBF(length_scale=0.1) + WhiteKernel(noise_level=1e-05),\n",
       "                                         1**2 * RBF(length_scale=1) + WhiteKernel(noise_level=1e-05),\n",
       "                                         1**2 * RBF(length_scale=10) + WhiteKernel(noise_level=1e-05),\n",
       "                                         1**2 * RBF(length_scale=100) + WhiteKernel(noise_level=1e-05),\n",
       "                                         1**2 * RBF(length_scale=1e+03) + WhiteKernel(noise_level=1e-05)]},\n",
       "             scoring='neg_mean_squared_error')"
      ]
     },
     "execution_count": 140,
     "metadata": {},
     "output_type": "execute_result"
    }
   ],
   "source": [
    "grid_search = GridSearchCV(pipeline, param_grid, cv=5, scoring='neg_mean_squared_error')\n",
    "grid_search.fit(X_train, y_train)\n"
   ]
  },
  {
   "cell_type": "code",
   "execution_count": 141,
   "metadata": {},
   "outputs": [],
   "source": [
    "# Predict on the test set\n",
    "y_pred = grid_search.predict(X_test)\n",
    "\n"
   ]
  },
  {
   "cell_type": "markdown",
   "metadata": {},
   "source": [
    "testing\n"
   ]
  },
  {
   "cell_type": "code",
   "execution_count": 151,
   "metadata": {},
   "outputs": [],
   "source": [
    "# Fixed values for speed and depth ( vitesse - profondeur)\n",
    "vitesse_new = 40\n",
    "profondeur_new = 2\n",
    "\n",
    "#range of time points at which we want to predict the outputs\n",
    "time_points = np.array([0.0004,\n",
    "0.00045,\n",
    "0.0005,\n",
    "0.00055,\n",
    "0.0006,\n",
    "0.00065,\n",
    "0.0007,\n",
    "0.00075,\n",
    "0.0008,\n",
    "0.00085,\n",
    "0.0009,\n",
    "])\n"
   ]
  },
  {
   "cell_type": "code",
   "execution_count": 152,
   "metadata": {},
   "outputs": [],
   "source": [
    "#new input data \n",
    "new_data = np.column_stack((np.full(time_points.shape, vitesse_new),\n",
    "                            time_points,\n",
    "                            np.full(time_points.shape, profondeur_new)))\n"
   ]
  },
  {
   "cell_type": "code",
   "execution_count": 153,
   "metadata": {},
   "outputs": [
    {
     "name": "stdout",
     "output_type": "stream",
     "text": [
      "Temps: 0.0004, Max contrainte: 91699934.98707520961761474609\n",
      "Temps: 0.00045, Max contrainte: 83724978.71436759829521179199\n",
      "Temps: 0.0005, Max contrainte: 75633975.84523926675319671631\n",
      "Temps: 0.00055, Max contrainte: 69956464.30161654949188232422\n",
      "Temps: 0.0006, Max contrainte: 66937268.11522624641656875610\n",
      "Temps: 0.00065, Max contrainte: 65641981.36145406961441040039\n",
      "Temps: 0.0007, Max contrainte: 65177765.77567918598651885986\n",
      "Temps: 0.00075, Max contrainte: 65041800.24032181501388549805\n",
      "Temps: 0.0008, Max contrainte: 65013558.55302577465772628784\n",
      "Temps: 0.00085, Max contrainte: 65012023.24894440174102783203\n",
      "Temps: 0.0009, Max contrainte: 65013818.80125474184751510620\n"
     ]
    }
   ],
   "source": [
    "new_predictions =  grid_search.predict(new_data)\n",
    "\n",
    "\n",
    "for time, pred in zip(time_points, new_predictions):\n",
    "    print(f\"Temps: {time}, Max contrainte: {pred:.20f}\")"
   ]
  }
 ],
 "metadata": {
  "kernelspec": {
   "display_name": "Python 3",
   "language": "python",
   "name": "python3"
  },
  "language_info": {
   "codemirror_mode": {
    "name": "ipython",
    "version": 3
   },
   "file_extension": ".py",
   "mimetype": "text/x-python",
   "name": "python",
   "nbconvert_exporter": "python",
   "pygments_lexer": "ipython3",
   "version": "3.11.8"
  }
 },
 "nbformat": 4,
 "nbformat_minor": 2
}
